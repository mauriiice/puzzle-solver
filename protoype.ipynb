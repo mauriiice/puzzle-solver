{
 "cells": [
  {
   "cell_type": "code",
   "execution_count": 1,
   "metadata": {},
   "outputs": [],
   "source": [
    "import cv2\n",
    "import numpy as np\n",
    "import matplotlib.pyplot as plt\n",
    "import os\n",
    "\n",
    "from sklearn.cluster import KMeans\n",
    "plt.gray()"
   ]
  },
  {
   "cell_type": "code",
   "execution_count": 191,
   "metadata": {},
   "outputs": [],
   "source": [
    "class EdgeType:\n",
    "    def __init__(self, edge=None, direction=None):\n",
    "        \n",
    "        self.edge = None\n",
    "        self.direction = None\n",
    "        if not edge:\n",
    "            return\n",
    "        \n",
    "        valid_edges = ('corner', 'side', 'omni')\n",
    "        \n",
    "        if edge not in valid_edges:\n",
    "            raise NameError       \n",
    "        else:\n",
    "            self.type = edge\n",
    "        \n",
    "        if self.type == 'omni':\n",
    "            self.direction = direction\n",
    "\n",
    "class Piece:\n",
    "    def __init__(self, image_path):\n",
    "        \"\"\"Constructor. Loads image from path and initializes main attributes.\"\"\"\n",
    "        \n",
    "        # make sure image_path is ONE STRING\n",
    "        try:\n",
    "            self.image = cv2.cvtColor(cv2.imread(image_path), cv2.COLOR_BGR2GRAY)\n",
    "        except Error as e:\n",
    "            print(f'Error reading image {e}.')\n",
    "            raise\n",
    "\n",
    "        self.width, self.height = self.image.shape\n",
    "        self.mask = np.zeros_like(self.image)\n",
    "        self.edge_classes = (None, None, None, None)\n",
    "        \n",
    "    def compute_mask(self):\n",
    "        \"\"\"Computes a binary mask containing the puzzle piece. Uses OTSU thresholding and \n",
    "        morphological transformations.\"\"\"\n",
    "        \n",
    "        kernel = np.ones((5,5), np.uint8)\n",
    "        blur = cv2.GaussianBlur(self.image,(5,5),0)\n",
    "        _, thresh = cv2.threshold(blur,0,255,cv2.THRESH_BINARY+cv2.THRESH_OTSU)\n",
    "        opening = cv2.morphologyEx(thresh, cv2.MORPH_OPEN, kernel)\n",
    "        closing = cv2.morphologyEx(opening, cv2.MORPH_CLOSE, kernel)\n",
    "        self.mask = opening\n",
    "        plt.imshow(self.mask)\n",
    "        \n",
    "    def find_corners(self):\n",
    "        \"\"\"Finds the corners of the puzzle piece. Sets self.single_corners.\"\"\"\n",
    "        \n",
    "        # Harris\n",
    "        corners = cv2.cornerHarris(self.mask, 3, 11, 0.04)\n",
    "        dst = cv2.dilate(corners, None)\n",
    "        self.corners = np.zeros_like(self.mask)\n",
    "        self.corners[dst>0.01*dst.max()] = 255\n",
    "        plt.imshow(self.corners)\n",
    "        \n",
    "        # Reduce to single pixel\n",
    "        white_pts = np.where(self.corners > 0)\n",
    "        white_pix = np.array([(row,col) for row,col in zip(white_pts[0], white_pts[1])])\n",
    "        image_corners = np.array([[0,0], [0, self.width], [self.width,self.height], [0,self.height]])\n",
    "        KM = KMeans(n_clusters=4, init=image_corners, n_init=1)\n",
    "        KM.fit(white_pix)\n",
    "        self.single_corners = KM.cluster_centers_.astype(int)\n",
    "        print(self.single_corners)\n",
    "        \n",
    "        if False:\n",
    "            plt.imshow(self.image)\n",
    "            crnr = np.zeros_like(self.image)\n",
    "            crnr[self.single_corners[:,0], self.single_corners[:,1]] = 255\n",
    "            plt.imshow(crnr)\n",
    "\n",
    "    def extract_line_profiles(self):\n",
    "         \n",
    "        sel = cv2.Canny(self.mask, 1, 2)\n",
    "        \n",
    "        for c1, c2 in zip([0,1,2,3], [1,2,3,0]):\n",
    "            cor1, cor2 = self.single_corners[c1], self.single_corners[c2]\n",
    "            print(f'from {cor1} to {cor2}.')\n",
    "        \n",
    "        start = self.single_corners[0]\n",
    "        \n",
    "        print(f'Starting at {start}.')\n",
    "        \n",
    "        \n",
    "        offs = 1\n",
    "        track = []\n",
    "        pos = start + np.array([1, 0])\n",
    "        #while np.sum(np.abs(pos-start)) != 0:\n",
    "        count = 0\n",
    "        while count < 10 :\n",
    "            track.append(pos)\n",
    "            sel[pos] = 0\n",
    "            nbhood = sel[pos[0]-offs:pos[0]+offs+1, pos[1]-offs:pos[1]+offs+1]\n",
    "            print(nbhood)\n",
    "            loc = np.where(nbhood > 0)\n",
    "            print(loc)\n",
    "            pos = np.array([[pos[0]+x,pos[1]+y] for x,y in zip(loc[0], loc[1])])[0,:]\n",
    "            #pos += loc\n",
    "            print(pos)\n",
    "            count +=1\n",
    "        \n",
    "        self.track = track\n",
    "            \n",
    "        \n",
    "            \n",
    "            \n",
    "            \n",
    "                      \n",
    "  "
   ]
  },
  {
   "cell_type": "code",
   "execution_count": 192,
   "metadata": {},
   "outputs": [
    {
     "name": "stdout",
     "output_type": "stream",
     "text": [
      "[[113  29]\n",
      " [488  29]\n",
      " [488 404]\n",
      " [113 404]]\n",
      "from [113  29] to [488  29].\n",
      "from [488  29] to [488 404].\n",
      "from [488 404] to [113 404].\n",
      "from [113 404] to [113  29].\n",
      "Starting at [113  29].\n",
      "[[255   0   0]\n",
      " [  0   0   0]\n",
      " [  0   0   0]]\n",
      "(array([0]), array([0]))\n",
      "[114  29]\n",
      "[[255   0   0]\n",
      " [  0   0   0]\n",
      " [  0   0   0]]\n",
      "(array([0]), array([0]))\n",
      "[114  29]\n",
      "[[255   0   0]\n",
      " [  0   0   0]\n",
      " [  0   0   0]]\n",
      "(array([0]), array([0]))\n",
      "[114  29]\n",
      "[[255   0   0]\n",
      " [  0   0   0]\n",
      " [  0   0   0]]\n",
      "(array([0]), array([0]))\n",
      "[114  29]\n",
      "[[255   0   0]\n",
      " [  0   0   0]\n",
      " [  0   0   0]]\n",
      "(array([0]), array([0]))\n",
      "[114  29]\n",
      "[[255   0   0]\n",
      " [  0   0   0]\n",
      " [  0   0   0]]\n",
      "(array([0]), array([0]))\n",
      "[114  29]\n",
      "[[255   0   0]\n",
      " [  0   0   0]\n",
      " [  0   0   0]]\n",
      "(array([0]), array([0]))\n",
      "[114  29]\n",
      "[[255   0   0]\n",
      " [  0   0   0]\n",
      " [  0   0   0]]\n",
      "(array([0]), array([0]))\n",
      "[114  29]\n",
      "[[255   0   0]\n",
      " [  0   0   0]\n",
      " [  0   0   0]]\n",
      "(array([0]), array([0]))\n",
      "[114  29]\n",
      "[[255   0   0]\n",
      " [  0   0   0]\n",
      " [  0   0   0]]\n",
      "(array([0]), array([0]))\n",
      "[114  29]\n"
     ]
    },
    {
     "data": {
      "image/png": "[encoded data removed]",
      "text/plain": [
       "<Figure size 864x864 with 1 Axes>"
      ]
     },
     "metadata": {
      "needs_background": "light"
     },
     "output_type": "display_data"
    }
   ],
   "source": [
    "image_path = './original/'\n",
    "all_images = [image_path+img for img in sorted(os.listdir(image_path))]\n",
    "# print(all_images)\n",
    "\n",
    "fig = plt.figure(figsize=(12,12))\n",
    "for ix in range(5,6):\n",
    "    fig.add_subplot(1,1,1)\n",
    "    pc = Piece(all_images[ix])\n",
    "    pc.compute_mask()\n",
    "    pc.find_corners()\n",
    "    pc.extract_line_profiles()"
   ]
  },
  {
   "cell_type": "code",
   "execution_count": null,
   "metadata": {},
   "outputs": [],
   "source": [
    "plt.imshow(pc.image)"
   ]
  },
  {
   "cell_type": "code",
   "execution_count": 146,
   "metadata": {},
   "outputs": [
    {
     "data": {
      "text/plain": [
       "-1"
      ]
     },
     "execution_count": 146,
     "metadata": {},
     "output_type": "execute_result"
    }
   ],
   "source": [
    "np.sign(-1)"
   ]
  },
  {
   "cell_type": "code",
   "execution_count": null,
   "metadata": {},
   "outputs": [],
   "source": []
  }
 ],
 "metadata": {
  "kernelspec": {
   "display_name": "Python 3",
   "language": "python",
   "name": "python3"
  },
  "language_info": {
   "codemirror_mode": {
    "name": "ipython",
    "version": 3
   },
   "file_extension": ".py",
   "mimetype": "text/x-python",
   "name": "python",
   "nbconvert_exporter": "python",
   "pygments_lexer": "ipython3",
   "version": "3.7.1"
  }
 },
 "nbformat": 4,
 "nbformat_minor": 2
}
